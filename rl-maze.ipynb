{
 "cells": [
  {
   "cell_type": "code",
   "execution_count": 1,
   "id": "c909c49b",
   "metadata": {
    "_cell_guid": "eff668e5-e81b-40f3-b0e3-3cc5720cc936",
    "_uuid": "5a9b4c6c-1b85-46da-8422-e78707a567f8",
    "collapsed": false,
    "execution": {
     "iopub.execute_input": "2025-01-17T00:04:01.790832Z",
     "iopub.status.busy": "2025-01-17T00:04:01.790478Z",
     "iopub.status.idle": "2025-01-17T00:04:06.575636Z",
     "shell.execute_reply": "2025-01-17T00:04:06.574577Z"
    },
    "jupyter": {
     "outputs_hidden": false
    },
    "papermill": {
     "duration": 4.792097,
     "end_time": "2025-01-17T00:04:06.577552",
     "exception": false,
     "start_time": "2025-01-17T00:04:01.785455",
     "status": "completed"
    },
    "tags": []
   },
   "outputs": [],
   "source": [
    "import gymnasium as gym\n",
    "from gym import spaces\n",
    "import math\n",
    "import random\n",
    "import numpy as np\n",
    "import matplotlib\n",
    "import matplotlib.pyplot as plt\n",
    "from collections import namedtuple, deque\n",
    "from itertools import count\n",
    "\n",
    "import torch\n",
    "import torch.nn as nn\n",
    "import torch.optim as optim\n",
    "import torch.nn.functional as F"
   ]
  },
  {
   "cell_type": "code",
   "execution_count": 2,
   "id": "d1e4df5a",
   "metadata": {
    "_cell_guid": "3d9abf89-d4dc-48a2-8c4c-b87b46114494",
    "_uuid": "e4fc258c-66f4-4fcf-98be-f23d66ed9a84",
    "collapsed": false,
    "execution": {
     "iopub.execute_input": "2025-01-17T00:04:06.586983Z",
     "iopub.status.busy": "2025-01-17T00:04:06.586489Z",
     "iopub.status.idle": "2025-01-17T00:04:06.604922Z",
     "shell.execute_reply": "2025-01-17T00:04:06.603855Z"
    },
    "jupyter": {
     "outputs_hidden": false
    },
    "papermill": {
     "duration": 0.025072,
     "end_time": "2025-01-17T00:04:06.606952",
     "exception": false,
     "start_time": "2025-01-17T00:04:06.581880",
     "status": "completed"
    },
    "tags": []
   },
   "outputs": [
    {
     "name": "stderr",
     "output_type": "stream",
     "text": [
      "/usr/local/lib/python3.10/dist-packages/ipykernel/ipkernel.py:283: DeprecationWarning: `should_run_async` will not call `transform_cell` automatically in the future. Please pass the result to `transformed_cell` argument and any exception that happen during thetransform in `preprocessing_exc_tuple` in IPython 7.17 and above.\n",
      "  and should_run_async(code)\n"
     ]
    }
   ],
   "source": [
    "class MazeEnv(gym.Env):\n",
    "    def __init__(self, maze_size=8):\n",
    "        super(MazeEnv, self).__init__()\n",
    "        \n",
    "        self.action_space = spaces.Discrete(4)  \n",
    "        self.observation_space = spaces.Box(low=0, high=maze_size-1, \n",
    "                                         shape=(2,), dtype=np.float32)\n",
    "        \n",
    "        self.maze_size = maze_size\n",
    "        self.max_steps = maze_size * maze_size * 2\n",
    "        self.current_step = 0\n",
    "        \n",
    "        self.maze = self._generate_maze()\n",
    "        self.reset()\n",
    "    \n",
    "    # def _generate_maze(self):\n",
    "    #     maze = np.zeros((self.maze_size, self.maze_size))\n",
    "        \n",
    "    #     maze[2:6, 2] = 1\n",
    "    #     maze[2, 2:6] = 1\n",
    "    #     maze[5, 2:6] = 1\n",
    "    #     maze[2:6, 5] = 1\n",
    "        \n",
    "    #     return maze\n",
    "\n",
    "    def _generate_maze(self):\n",
    "        maze = np.ones((self.maze_size, self.maze_size))  # Start with walls (1s)\n",
    "        stack = []  # Stack for DFS\n",
    "        start_x, start_y = 1, 1  # Starting cell\n",
    "        goal_x, goal_y = self.maze_size - 2, self.maze_size - 2  # Goal position\n",
    "    \n",
    "        maze[start_x, start_y] = 0  # Open the starting cell\n",
    "        stack.append((start_x, start_y))\n",
    "    \n",
    "        while stack:\n",
    "            x, y = stack[-1]\n",
    "            neighbors = self._get_unvisited_neighbors(maze, x, y)\n",
    "    \n",
    "            if neighbors:\n",
    "                # Randomly choose a neighbor\n",
    "                nx, ny = random.choice(neighbors)\n",
    "                \n",
    "                # Remove the wall between the current cell and the chosen neighbor\n",
    "                wall_x, wall_y = (x + nx) // 2, (y + ny) // 2\n",
    "                maze[wall_x, wall_y] = 0\n",
    "                maze[nx, ny] = 0  # Mark the neighbor as visited\n",
    "                \n",
    "                # Push the neighbor onto the stack\n",
    "                stack.append((nx, ny))\n",
    "            else:\n",
    "                # Backtrack if no unvisited neighbors\n",
    "                stack.pop()\n",
    "    \n",
    "        # Ensure start and goal cells are open\n",
    "        maze[start_x, start_y] = 0\n",
    "        maze[goal_x, goal_y] = 0\n",
    "    \n",
    "        # Carve a direct path from start to goal if disconnected\n",
    "        self._ensure_path(maze, start_x, start_y, goal_x, goal_y)\n",
    "    \n",
    "        return maze\n",
    "    \n",
    "    def _get_unvisited_neighbors(self, maze, x, y):\n",
    "        \"\"\"Find unvisited neighbors for DFS (2-cell apart).\"\"\"\n",
    "        neighbors = []\n",
    "        for dx, dy in [(-2, 0), (2, 0), (0, -2), (0, 2)]:  # Move in 2-cell steps\n",
    "            nx, ny = x + dx, y + dy\n",
    "            if 1 <= nx < self.maze_size - 1 and 1 <= ny < self.maze_size - 1:  # Within bounds\n",
    "                if maze[nx, ny] == 1:  # Unvisited\n",
    "                    neighbors.append((nx, ny))\n",
    "        return neighbors\n",
    "    \n",
    "    def _ensure_path(self, maze, start_x, start_y, goal_x, goal_y):\n",
    "        \"\"\"Ensure a direct path from start to goal exists.\"\"\"\n",
    "        x, y = start_x, start_y\n",
    "        while (x, y) != (goal_x, goal_y):\n",
    "            if x < goal_x:\n",
    "                maze[x + 1, y] = 0\n",
    "                x += 1\n",
    "            elif x > goal_x:\n",
    "                maze[x - 1, y] = 0\n",
    "                x -= 1\n",
    "            elif y < goal_y:\n",
    "                maze[x, y + 1] = 0\n",
    "                y += 1\n",
    "            elif y > goal_y:\n",
    "                maze[x, y - 1] = 0\n",
    "                y -= 1\n",
    "\n",
    "    def reset(self):\n",
    "        self.agent_pos = np.array([1, 1])\n",
    "        self.goal_pos = np.array([self.maze_size-2, self.maze_size-2])\n",
    "        self.current_step = 0\n",
    "        return self.agent_pos\n",
    "    \n",
    "    def step(self, action):\n",
    "        self.current_step += 1\n",
    "        reward = -0.2\n",
    "        done = False\n",
    "        \n",
    "        new_pos = self.agent_pos.copy()\n",
    "        if action == 0:  \n",
    "            new_pos[0] -= 1\n",
    "        elif action == 1:  \n",
    "            new_pos[0] += 1\n",
    "        elif action == 2:  \n",
    "            new_pos[1] -= 1\n",
    "        elif action == 3:  \n",
    "            new_pos[1] += 1\n",
    "        \n",
    "        if (0 <= new_pos[0] < self.maze_size and \n",
    "            0 <= new_pos[1] < self.maze_size and \n",
    "            self.maze[new_pos[0], new_pos[1]] != 1):\n",
    "            self.agent_pos = new_pos\n",
    "            \n",
    "            if np.array_equal(self.agent_pos, self.goal_pos):\n",
    "                reward = 1.0\n",
    "                done = True\n",
    "        else:\n",
    "            reward = -1.5  \n",
    "        \n",
    "        \n",
    "        if self.current_step >= self.max_steps:\n",
    "            done = True\n",
    "        \n",
    "        info = {}\n",
    "        return self.agent_pos, reward, done, info\n",
    "    \n",
    "    def render(self):\n",
    "        maze_view = self.maze.copy()\n",
    "        maze_view[self.goal_pos[0], self.goal_pos[1]] = 2  \n",
    "        maze_view[self.agent_pos[0], self.agent_pos[1]] = 3  \n",
    "        \n",
    "        for row in maze_view:\n",
    "            print(' '.join(['🟦' if x == 1 else '🎯' if x == 2 \n",
    "                          else '🤖' if x == 3 else '⬜️' for x in row]))\n",
    "        print('\\n')"
   ]
  },
  {
   "cell_type": "code",
   "execution_count": 3,
   "id": "b3eff021",
   "metadata": {
    "_cell_guid": "239f46c0-3b12-4bb4-be15-1dce60f51a85",
    "_uuid": "2b268e47-9593-47da-8de0-93f6a65ff6af",
    "collapsed": false,
    "execution": {
     "iopub.execute_input": "2025-01-17T00:04:06.615553Z",
     "iopub.status.busy": "2025-01-17T00:04:06.615152Z",
     "iopub.status.idle": "2025-01-17T00:04:06.629505Z",
     "shell.execute_reply": "2025-01-17T00:04:06.628544Z"
    },
    "jupyter": {
     "outputs_hidden": false
    },
    "papermill": {
     "duration": 0.019861,
     "end_time": "2025-01-17T00:04:06.630965",
     "exception": false,
     "start_time": "2025-01-17T00:04:06.611104",
     "status": "completed"
    },
    "tags": []
   },
   "outputs": [
    {
     "name": "stdout",
     "output_type": "stream",
     "text": [
      "cpu\n",
      "🟦 🟦 🟦 🟦 🟦 🟦 🟦 🟦\n",
      "🟦 🤖 🟦 ⬜️ ⬜️ ⬜️ 🟦 🟦\n",
      "🟦 ⬜️ 🟦 ⬜️ 🟦 ⬜️ 🟦 🟦\n",
      "🟦 ⬜️ 🟦 ⬜️ 🟦 ⬜️ 🟦 🟦\n",
      "🟦 ⬜️ 🟦 ⬜️ 🟦 ⬜️ 🟦 🟦\n",
      "🟦 ⬜️ ⬜️ ⬜️ 🟦 ⬜️ 🟦 🟦\n",
      "🟦 ⬜️ ⬜️ ⬜️ ⬜️ ⬜️ 🎯 🟦\n",
      "🟦 🟦 🟦 🟦 🟦 🟦 🟦 🟦\n",
      "\n",
      "\n"
     ]
    }
   ],
   "source": [
    "env = MazeEnv()\n",
    "\n",
    "is_ipython = 'inline' in matplotlib.get_backend()\n",
    "if is_ipython:\n",
    "    from IPython import display\n",
    "    plt.ion()\n",
    "    device = torch.device(\n",
    "    \"cuda\" if torch.cuda.is_available() else\n",
    "    \"mps\" if torch.backends.mps.is_available() else\n",
    "    \"cpu\"\n",
    ")\n",
    "print(device)\n",
    "    \n",
    "env.render()"
   ]
  },
  {
   "cell_type": "code",
   "execution_count": 4,
   "id": "61dad355",
   "metadata": {
    "_cell_guid": "b8c19085-45d3-471c-9adc-e78076589b6d",
    "_uuid": "615bf7ed-bc65-4000-b985-8101e7973ba0",
    "collapsed": false,
    "execution": {
     "iopub.execute_input": "2025-01-17T00:04:06.639017Z",
     "iopub.status.busy": "2025-01-17T00:04:06.638677Z",
     "iopub.status.idle": "2025-01-17T00:04:06.644548Z",
     "shell.execute_reply": "2025-01-17T00:04:06.643453Z"
    },
    "jupyter": {
     "outputs_hidden": false
    },
    "papermill": {
     "duration": 0.011494,
     "end_time": "2025-01-17T00:04:06.646033",
     "exception": false,
     "start_time": "2025-01-17T00:04:06.634539",
     "status": "completed"
    },
    "tags": []
   },
   "outputs": [],
   "source": [
    "Transition = namedtuple('Transition',\n",
    "                        ('state', 'action', 'next_state', 'reward'))\n",
    "class ReplayMemory(object):\n",
    "    def __init__(self, capacity):\n",
    "        self.memory = deque([], maxlen=capacity)\n",
    "    def push(self, *args):\n",
    "        \"\"\"Save a transition\"\"\"\n",
    "        self.memory.append(Transition(*args))\n",
    "    def sample(self, batch_size):\n",
    "        return random.sample(self.memory, batch_size)\n",
    "    def __len__(self):\n",
    "        return len(self.memory)"
   ]
  },
  {
   "cell_type": "code",
   "execution_count": 5,
   "id": "afd0f69a",
   "metadata": {
    "_cell_guid": "66cd433c-0e18-4972-95b3-b786721cf7fa",
    "_uuid": "71a979bc-d845-42c4-86c7-f2d305fe4a16",
    "collapsed": false,
    "execution": {
     "iopub.execute_input": "2025-01-17T00:04:06.654125Z",
     "iopub.status.busy": "2025-01-17T00:04:06.653728Z",
     "iopub.status.idle": "2025-01-17T00:04:06.659777Z",
     "shell.execute_reply": "2025-01-17T00:04:06.658725Z"
    },
    "jupyter": {
     "outputs_hidden": false
    },
    "papermill": {
     "duration": 0.011884,
     "end_time": "2025-01-17T00:04:06.661411",
     "exception": false,
     "start_time": "2025-01-17T00:04:06.649527",
     "status": "completed"
    },
    "tags": []
   },
   "outputs": [],
   "source": [
    "class DQN(nn.Module):\n",
    "    def __init__(self, n_observations, n_actions):\n",
    "        super(DQN, self).__init__()\n",
    "        self.layer1 = nn.Linear(n_observations, 64)          \n",
    "        self.layer2 = nn.Linear(64, 128)          \n",
    "        self.layer3 = nn.Linear(128, 64)          \n",
    "        self.layer4 = nn.Linear(64, n_actions)          \n",
    "    def forward(self, x):\n",
    "        x = F.relu(self.layer1(x))\n",
    "        x = F.relu(self.layer2(x))\n",
    "        x = F.relu(self.layer3(x))\n",
    "        return self.layer4(x)"
   ]
  },
  {
   "cell_type": "code",
   "execution_count": 6,
   "id": "4ab9a524",
   "metadata": {
    "_cell_guid": "aa62275f-b565-4393-90aa-d978a848518a",
    "_uuid": "08dce575-0950-4d99-9276-9a43b271a031",
    "collapsed": false,
    "execution": {
     "iopub.execute_input": "2025-01-17T00:04:06.669530Z",
     "iopub.status.busy": "2025-01-17T00:04:06.669150Z",
     "iopub.status.idle": "2025-01-17T00:04:11.239426Z",
     "shell.execute_reply": "2025-01-17T00:04:11.238426Z"
    },
    "jupyter": {
     "outputs_hidden": false
    },
    "papermill": {
     "duration": 4.576367,
     "end_time": "2025-01-17T00:04:11.241337",
     "exception": false,
     "start_time": "2025-01-17T00:04:06.664970",
     "status": "completed"
    },
    "tags": []
   },
   "outputs": [],
   "source": [
    "BATCH_SIZE = 512\n",
    "GAMMA = 0.99\n",
    "EPS_START = 0.9\n",
    "EPS_END = 0.05\n",
    "EPS_DECAY = 5000\n",
    "TAU = 0.005\n",
    "LR = 1e-4\n",
    "\n",
    "n_actions = env.action_space.n\n",
    "state = env.reset()\n",
    "n_observations = len(state)\n",
    "\n",
    "policy_net = DQN(n_observations, n_actions).to(device)\n",
    "target_net = DQN(n_observations, n_actions).to(device)\n",
    "target_net.load_state_dict(policy_net.state_dict())\n",
    "\n",
    "optimizer = optim.AdamW(policy_net.parameters(), lr=LR, amsgrad=True)\n",
    "memory = ReplayMemory(10000)\n",
    "\n",
    "steps_done = 0\n",
    "def select_action(state):\n",
    "    global steps_done\n",
    "    sample = random.random()\n",
    "    \n",
    "    eps_threshold = EPS_END + (EPS_START - EPS_END) * math.exp(-1. * steps_done / EPS_DECAY)\n",
    "    \n",
    "    steps_done += 1\n",
    "    if sample > eps_threshold:\n",
    "        with torch.no_grad():\n",
    "            return policy_net(state).max(1).indices.view(1, 1)\n",
    "    else:\n",
    "        return torch.tensor([[env.action_space.sample()]], device=device, dtype=torch.long)\n",
    "    \n",
    "episode_durations = []\n",
    "\n",
    "def plot_durations(show_result=False):\n",
    "    plt.figure(1)\n",
    "    durations_t = torch.tensor(episode_durations, dtype=torch.float)\n",
    "    if show_result:\n",
    "        plt.title('Result')\n",
    "    else:\n",
    "        plt.clf()\n",
    "        plt.title('Training...')\n",
    "    plt.xlabel('Episode')\n",
    "    plt.ylabel('Steps to Goal')\n",
    "    plt.plot(durations_t.numpy())\n",
    "    \n",
    "    if len(durations_t) >= 100:\n",
    "        means = durations_t.unfold(0, 100, 1).mean(1).view(-1)\n",
    "        means = torch.cat((torch.zeros(99), means))\n",
    "        plt.plot(means.numpy())\n",
    "        \n",
    "    plt.pause(0.001)\n",
    "    if is_ipython:\n",
    "        if not show_result:\n",
    "            display.display(plt.gcf())\n",
    "            display.clear_output(wait=True)\n",
    "        else:\n",
    "            display.display(plt.gcf())"
   ]
  },
  {
   "cell_type": "code",
   "execution_count": 7,
   "id": "c820fda6",
   "metadata": {
    "_cell_guid": "d09a928d-f6e9-4038-9be0-1dd5ff6cdc3a",
    "_uuid": "cc90fd4a-24ed-487d-8434-a27e182b77bf",
    "collapsed": false,
    "execution": {
     "iopub.execute_input": "2025-01-17T00:04:11.249686Z",
     "iopub.status.busy": "2025-01-17T00:04:11.249252Z",
     "iopub.status.idle": "2025-01-17T00:04:11.257075Z",
     "shell.execute_reply": "2025-01-17T00:04:11.256005Z"
    },
    "jupyter": {
     "outputs_hidden": false
    },
    "papermill": {
     "duration": 0.013675,
     "end_time": "2025-01-17T00:04:11.258718",
     "exception": false,
     "start_time": "2025-01-17T00:04:11.245043",
     "status": "completed"
    },
    "tags": []
   },
   "outputs": [
    {
     "name": "stderr",
     "output_type": "stream",
     "text": [
      "/usr/local/lib/python3.10/dist-packages/ipykernel/ipkernel.py:283: DeprecationWarning: `should_run_async` will not call `transform_cell` automatically in the future. Please pass the result to `transformed_cell` argument and any exception that happen during thetransform in `preprocessing_exc_tuple` in IPython 7.17 and above.\n",
      "  and should_run_async(code)\n"
     ]
    }
   ],
   "source": [
    "def optimize_model():\n",
    "    if len(memory) < BATCH_SIZE:\n",
    "        return\n",
    "        \n",
    "    transitions = memory.sample(BATCH_SIZE)\n",
    "    batch = Transition(*zip(*transitions))\n",
    "    \n",
    "    non_final_mask = torch.tensor(tuple(map(lambda s: s is not None,\n",
    "                                          batch.next_state)), device=device, dtype=torch.bool)\n",
    "    non_final_next_states = torch.cat([s for s in batch.next_state\n",
    "                                                if s is not None])\n",
    "    state_batch = torch.cat(batch.state)\n",
    "    action_batch = torch.cat(batch.action)\n",
    "    reward_batch = torch.cat(batch.reward)\n",
    "    \n",
    "    state_action_values = policy_net(state_batch).gather(1, action_batch)\n",
    "    next_state_values = torch.zeros(BATCH_SIZE, device=device)\n",
    "    \n",
    "    with torch.no_grad():\n",
    "        next_state_values[non_final_mask] = target_net(non_final_next_states).max(1).values\n",
    "        expected_state_action_values = (next_state_values * GAMMA) + reward_batch\n",
    "        criterion = nn.SmoothL1Loss()\n",
    "        \n",
    "    loss = criterion(state_action_values, expected_state_action_values.unsqueeze(1))\n",
    "    optimizer.zero_grad()\n",
    "    loss.backward()\n",
    "    \n",
    "    torch.nn.utils.clip_grad_value_(policy_net.parameters(), 100)\n",
    "    optimizer.step()"
   ]
  },
  {
   "cell_type": "code",
   "execution_count": 8,
   "id": "48ec0114",
   "metadata": {
    "_cell_guid": "33bd341a-9ac1-4afb-a62d-00d34c4456e3",
    "_uuid": "4c2a1629-ba91-4544-9b45-3f73d1005242",
    "collapsed": false,
    "execution": {
     "iopub.execute_input": "2025-01-17T00:04:11.266805Z",
     "iopub.status.busy": "2025-01-17T00:04:11.266492Z",
     "iopub.status.idle": "2025-01-17T00:46:01.095787Z",
     "shell.execute_reply": "2025-01-17T00:46:01.094826Z"
    },
    "jupyter": {
     "outputs_hidden": false
    },
    "papermill": {
     "duration": 2509.835245,
     "end_time": "2025-01-17T00:46:01.097495",
     "exception": false,
     "start_time": "2025-01-17T00:04:11.262250",
     "status": "completed"
    },
    "tags": []
   },
   "outputs": [
    {
     "name": "stdout",
     "output_type": "stream",
     "text": [
      "Complete\n"
     ]
    },
    {
     "data": {
      "image/png": "[encoded data removed]",
      "text/plain": [
       "<Figure size 640x480 with 1 Axes>"
      ]
     },
     "metadata": {},
     "output_type": "display_data"
    },
    {
     "data": {
      "text/plain": [
       "<Figure size 640x480 with 0 Axes>"
      ]
     },
     "metadata": {},
     "output_type": "display_data"
    },
    {
     "data": {
      "text/plain": [
       "<Figure size 640x480 with 0 Axes>"
      ]
     },
     "metadata": {},
     "output_type": "display_data"
    }
   ],
   "source": [
    "num_episodes = 7000\n",
    "episode_rewards = []\n",
    "for i_episode in range(num_episodes):\n",
    "    state = env.reset()\n",
    "    state = torch.tensor(state, dtype=torch.float32, device=device).unsqueeze(0)\n",
    "    episode_reward = 0\n",
    "    \n",
    "    for t in count():\n",
    "        action = select_action(state)\n",
    "        observation, reward, done, _ = env.step(action.item())\n",
    "        episode_reward += reward\n",
    "        reward = torch.tensor([reward], device=device)\n",
    "        if done:\n",
    "            next_state = None\n",
    "        else:\n",
    "            next_state = torch.tensor(observation, dtype=torch.float32, device=device).unsqueeze(0)\n",
    "            memory.push(state, action, next_state, reward)\n",
    "        state = next_state\n",
    "        optimize_model()\n",
    "        target_net_state_dict = target_net.state_dict()\n",
    "        policy_net_state_dict = policy_net.state_dict()\n",
    "        for key in policy_net_state_dict:\n",
    "            target_net_state_dict[key] = policy_net_state_dict[key]*TAU + target_net_state_dict[key]*(1-TAU)\n",
    "        target_net.load_state_dict(target_net_state_dict)\n",
    "            \n",
    "        if done:\n",
    "            episode_durations.append(t + 1)\n",
    "            episode_rewards.append(episode_reward)\n",
    "            plot_durations()\n",
    "            break\n",
    "            \n",
    "print('Complete')\n",
    "plot_durations(show_result=True)\n",
    "plt.ioff()\n",
    "plt.show()"
   ]
  },
  {
   "cell_type": "code",
   "execution_count": 9,
   "id": "3f499597",
   "metadata": {
    "_cell_guid": "a8ef38fc-be32-444a-bfd5-bf12e02b519c",
    "_uuid": "33667250-b1d8-4947-87fc-b2e22fa2be6a",
    "collapsed": false,
    "execution": {
     "iopub.execute_input": "2025-01-17T00:46:01.107976Z",
     "iopub.status.busy": "2025-01-17T00:46:01.107627Z",
     "iopub.status.idle": "2025-01-17T00:46:01.138987Z",
     "shell.execute_reply": "2025-01-17T00:46:01.137611Z"
    },
    "jupyter": {
     "outputs_hidden": false
    },
    "papermill": {
     "duration": 0.038325,
     "end_time": "2025-01-17T00:46:01.140686",
     "exception": false,
     "start_time": "2025-01-17T00:46:01.102361",
     "status": "completed"
    },
    "tags": []
   },
   "outputs": [
    {
     "name": "stdout",
     "output_type": "stream",
     "text": [
      "🟦 🟦 🟦 🟦 🟦 🟦 🟦 🟦\n",
      "🟦 ⬜️ 🟦 ⬜️ ⬜️ ⬜️ 🟦 🟦\n",
      "🟦 🤖 🟦 ⬜️ 🟦 ⬜️ 🟦 🟦\n",
      "🟦 ⬜️ 🟦 ⬜️ 🟦 ⬜️ 🟦 🟦\n",
      "🟦 ⬜️ 🟦 ⬜️ 🟦 ⬜️ 🟦 🟦\n",
      "🟦 ⬜️ ⬜️ ⬜️ 🟦 ⬜️ 🟦 🟦\n",
      "🟦 ⬜️ ⬜️ ⬜️ ⬜️ ⬜️ 🎯 🟦\n",
      "🟦 🟦 🟦 🟦 🟦 🟦 🟦 🟦\n",
      "\n",
      "\n",
      "🟦 🟦 🟦 🟦 🟦 🟦 🟦 🟦\n",
      "🟦 ⬜️ 🟦 ⬜️ ⬜️ ⬜️ 🟦 🟦\n",
      "🟦 ⬜️ 🟦 ⬜️ 🟦 ⬜️ 🟦 🟦\n",
      "🟦 🤖 🟦 ⬜️ 🟦 ⬜️ 🟦 🟦\n",
      "🟦 ⬜️ 🟦 ⬜️ 🟦 ⬜️ 🟦 🟦\n",
      "🟦 ⬜️ ⬜️ ⬜️ 🟦 ⬜️ 🟦 🟦\n",
      "🟦 ⬜️ ⬜️ ⬜️ ⬜️ ⬜️ 🎯 🟦\n",
      "🟦 🟦 🟦 🟦 🟦 🟦 🟦 🟦\n",
      "\n",
      "\n",
      "🟦 🟦 🟦 🟦 🟦 🟦 🟦 🟦\n",
      "🟦 ⬜️ 🟦 ⬜️ ⬜️ ⬜️ 🟦 🟦\n",
      "🟦 ⬜️ 🟦 ⬜️ 🟦 ⬜️ 🟦 🟦\n",
      "🟦 ⬜️ 🟦 ⬜️ 🟦 ⬜️ 🟦 🟦\n",
      "🟦 🤖 🟦 ⬜️ 🟦 ⬜️ 🟦 🟦\n",
      "🟦 ⬜️ ⬜️ ⬜️ 🟦 ⬜️ 🟦 🟦\n",
      "🟦 ⬜️ ⬜️ ⬜️ ⬜️ ⬜️ 🎯 🟦\n",
      "🟦 🟦 🟦 🟦 🟦 🟦 🟦 🟦\n",
      "\n",
      "\n",
      "🟦 🟦 🟦 🟦 🟦 🟦 🟦 🟦\n",
      "🟦 ⬜️ 🟦 ⬜️ ⬜️ ⬜️ 🟦 🟦\n",
      "🟦 ⬜️ 🟦 ⬜️ 🟦 ⬜️ 🟦 🟦\n",
      "🟦 ⬜️ 🟦 ⬜️ 🟦 ⬜️ 🟦 🟦\n",
      "🟦 ⬜️ 🟦 ⬜️ 🟦 ⬜️ 🟦 🟦\n",
      "🟦 🤖 ⬜️ ⬜️ 🟦 ⬜️ 🟦 🟦\n",
      "🟦 ⬜️ ⬜️ ⬜️ ⬜️ ⬜️ 🎯 🟦\n",
      "🟦 🟦 🟦 🟦 🟦 🟦 🟦 🟦\n",
      "\n",
      "\n",
      "🟦 🟦 🟦 🟦 🟦 🟦 🟦 🟦\n",
      "🟦 ⬜️ 🟦 ⬜️ ⬜️ ⬜️ 🟦 🟦\n",
      "🟦 ⬜️ 🟦 ⬜️ 🟦 ⬜️ 🟦 🟦\n",
      "🟦 ⬜️ 🟦 ⬜️ 🟦 ⬜️ 🟦 🟦\n",
      "🟦 ⬜️ 🟦 ⬜️ 🟦 ⬜️ 🟦 🟦\n",
      "🟦 ⬜️ ⬜️ ⬜️ 🟦 ⬜️ 🟦 🟦\n",
      "🟦 🤖 ⬜️ ⬜️ ⬜️ ⬜️ 🎯 🟦\n",
      "🟦 🟦 🟦 🟦 🟦 🟦 🟦 🟦\n",
      "\n",
      "\n",
      "🟦 🟦 🟦 🟦 🟦 🟦 🟦 🟦\n",
      "🟦 ⬜️ 🟦 ⬜️ ⬜️ ⬜️ 🟦 🟦\n",
      "🟦 ⬜️ 🟦 ⬜️ 🟦 ⬜️ 🟦 🟦\n",
      "🟦 ⬜️ 🟦 ⬜️ 🟦 ⬜️ 🟦 🟦\n",
      "🟦 ⬜️ 🟦 ⬜️ 🟦 ⬜️ 🟦 🟦\n",
      "🟦 ⬜️ ⬜️ ⬜️ 🟦 ⬜️ 🟦 🟦\n",
      "🟦 ⬜️ 🤖 ⬜️ ⬜️ ⬜️ 🎯 🟦\n",
      "🟦 🟦 🟦 🟦 🟦 🟦 🟦 🟦\n",
      "\n",
      "\n",
      "🟦 🟦 🟦 🟦 🟦 🟦 🟦 🟦\n",
      "🟦 ⬜️ 🟦 ⬜️ ⬜️ ⬜️ 🟦 🟦\n",
      "🟦 ⬜️ 🟦 ⬜️ 🟦 ⬜️ 🟦 🟦\n",
      "🟦 ⬜️ 🟦 ⬜️ 🟦 ⬜️ 🟦 🟦\n",
      "🟦 ⬜️ 🟦 ⬜️ 🟦 ⬜️ 🟦 🟦\n",
      "🟦 ⬜️ ⬜️ ⬜️ 🟦 ⬜️ 🟦 🟦\n",
      "🟦 ⬜️ ⬜️ 🤖 ⬜️ ⬜️ 🎯 🟦\n",
      "🟦 🟦 🟦 🟦 🟦 🟦 🟦 🟦\n",
      "\n",
      "\n",
      "🟦 🟦 🟦 🟦 🟦 🟦 🟦 🟦\n",
      "🟦 ⬜️ 🟦 ⬜️ ⬜️ ⬜️ 🟦 🟦\n",
      "🟦 ⬜️ 🟦 ⬜️ 🟦 ⬜️ 🟦 🟦\n",
      "🟦 ⬜️ 🟦 ⬜️ 🟦 ⬜️ 🟦 🟦\n",
      "🟦 ⬜️ 🟦 ⬜️ 🟦 ⬜️ 🟦 🟦\n",
      "🟦 ⬜️ ⬜️ ⬜️ 🟦 ⬜️ 🟦 🟦\n",
      "🟦 ⬜️ ⬜️ ⬜️ 🤖 ⬜️ 🎯 🟦\n",
      "🟦 🟦 🟦 🟦 🟦 🟦 🟦 🟦\n",
      "\n",
      "\n",
      "🟦 🟦 🟦 🟦 🟦 🟦 🟦 🟦\n",
      "🟦 ⬜️ 🟦 ⬜️ ⬜️ ⬜️ 🟦 🟦\n",
      "🟦 ⬜️ 🟦 ⬜️ 🟦 ⬜️ 🟦 🟦\n",
      "🟦 ⬜️ 🟦 ⬜️ 🟦 ⬜️ 🟦 🟦\n",
      "🟦 ⬜️ 🟦 ⬜️ 🟦 ⬜️ 🟦 🟦\n",
      "🟦 ⬜️ ⬜️ ⬜️ 🟦 ⬜️ 🟦 🟦\n",
      "🟦 ⬜️ ⬜️ ⬜️ ⬜️ 🤖 🎯 🟦\n",
      "🟦 🟦 🟦 🟦 🟦 🟦 🟦 🟦\n",
      "\n",
      "\n",
      "🟦 🟦 🟦 🟦 🟦 🟦 🟦 🟦\n",
      "🟦 ⬜️ 🟦 ⬜️ ⬜️ ⬜️ 🟦 🟦\n",
      "🟦 ⬜️ 🟦 ⬜️ 🟦 ⬜️ 🟦 🟦\n",
      "🟦 ⬜️ 🟦 ⬜️ 🟦 ⬜️ 🟦 🟦\n",
      "🟦 ⬜️ 🟦 ⬜️ 🟦 ⬜️ 🟦 🟦\n",
      "🟦 ⬜️ ⬜️ ⬜️ 🟦 ⬜️ 🟦 🟦\n",
      "🟦 ⬜️ ⬜️ ⬜️ ⬜️ ⬜️ 🤖 🟦\n",
      "🟦 🟦 🟦 🟦 🟦 🟦 🟦 🟦\n",
      "\n",
      "\n"
     ]
    }
   ],
   "source": [
    "state = env.reset()\n",
    "state = torch.tensor(state, dtype=torch.float32, device=device).unsqueeze(0)\n",
    "for t in count():\n",
    "    action = policy_net(state).max(1).indices.view(1, 1)\n",
    "    observation, reward, done, info = env.step(action.item())\n",
    "    state = torch.tensor(observation, dtype=torch.float32, device=device).unsqueeze(0)\n",
    "    \n",
    "    env.render()\n",
    "    if done:\n",
    "        break"
   ]
  }
 ],
 "metadata": {
  "kaggle": {
   "accelerator": "none",
   "dataSources": [],
   "dockerImageVersionId": 30840,
   "isGpuEnabled": false,
   "isInternetEnabled": true,
   "language": "python",
   "sourceType": "notebook"
  },
  "kernelspec": {
   "display_name": "Python 3",
   "language": "python",
   "name": "python3"
  },
  "language_info": {
   "codemirror_mode": {
    "name": "ipython",
    "version": 3
   },
   "file_extension": ".py",
   "mimetype": "text/x-python",
   "name": "python",
   "nbconvert_exporter": "python",
   "pygments_lexer": "ipython3",
   "version": "3.10.12"
  },
  "papermill": {
   "default_parameters": {},
   "duration": 2524.775709,
   "end_time": "2025-01-17T00:46:03.823947",
   "environment_variables": {},
   "exception": null,
   "input_path": "__notebook__.ipynb",
   "output_path": "__notebook__.ipynb",
   "parameters": {},
   "start_time": "2025-01-17T00:03:59.048238",
   "version": "2.6.0"
  }
 },
 "nbformat": 4,
 "nbformat_minor": 5
}
